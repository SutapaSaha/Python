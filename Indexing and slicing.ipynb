{
 "cells": [
  {
   "cell_type": "code",
   "execution_count": 1,
   "id": "18e2dae2",
   "metadata": {},
   "outputs": [],
   "source": [
    "import numpy as np"
   ]
  },
  {
   "cell_type": "code",
   "execution_count": 3,
   "id": "ba496ab8",
   "metadata": {},
   "outputs": [
    {
     "name": "stdout",
     "output_type": "stream",
     "text": [
      "30\n",
      "\n",
      "[20 30]\n"
     ]
    }
   ],
   "source": [
    "X = np.array([10,20,30,40,50])\n",
    "print(X[2], X[1:3], sep=\"\\n\\n\")"
   ]
  },
  {
   "cell_type": "code",
   "execution_count": 4,
   "id": "3929df95",
   "metadata": {},
   "outputs": [
    {
     "data": {
      "text/plain": [
       "array([10, 99, 99, 40, 50])"
      ]
     },
     "execution_count": 4,
     "metadata": {},
     "output_type": "execute_result"
    }
   ],
   "source": [
    "X[1:3]=99\n",
    "X"
   ]
  },
  {
   "cell_type": "code",
   "execution_count": 5,
   "id": "c00ba3f0",
   "metadata": {},
   "outputs": [
    {
     "data": {
      "text/plain": [
       "array([99, 99])"
      ]
     },
     "execution_count": 5,
     "metadata": {},
     "output_type": "execute_result"
    }
   ],
   "source": [
    "subarray = X[1:3]\n",
    "subarray"
   ]
  },
  {
   "cell_type": "code",
   "execution_count": 6,
   "id": "5f3f2c76",
   "metadata": {},
   "outputs": [
    {
     "data": {
      "text/plain": [
       "array([ 10, 199,  99,  40,  50])"
      ]
     },
     "execution_count": 6,
     "metadata": {},
     "output_type": "execute_result"
    }
   ],
   "source": [
    "subarray[0]=199\n",
    "X"
   ]
  },
  {
   "cell_type": "code",
   "execution_count": 7,
   "id": "e5c2a520",
   "metadata": {},
   "outputs": [
    {
     "data": {
      "text/plain": [
       "array([[10, 20, 30, 40],\n",
       "       [50, 60, 70, 80]])"
      ]
     },
     "execution_count": 7,
     "metadata": {},
     "output_type": "execute_result"
    }
   ],
   "source": [
    "X = np.array([[10,20,30,40],[50,60,70,80]])\n",
    "X"
   ]
  },
  {
   "cell_type": "code",
   "execution_count": 8,
   "id": "3b2a9c19",
   "metadata": {},
   "outputs": [
    {
     "name": "stdout",
     "output_type": "stream",
     "text": [
      "[10 20 30 40]\n",
      "\n",
      "[50 60 70 80]\n"
     ]
    }
   ],
   "source": [
    "print(X[0], X[1], sep=\"\\n\\n\")"
   ]
  },
  {
   "cell_type": "code",
   "execution_count": 9,
   "id": "23fc4f41",
   "metadata": {},
   "outputs": [
    {
     "name": "stdout",
     "output_type": "stream",
     "text": [
      "[30 70]\n",
      "\n",
      "[40 80]\n"
     ]
    }
   ],
   "source": [
    "print(X[:,2], X[:,3], sep=\"\\n\\n\")"
   ]
  },
  {
   "cell_type": "code",
   "execution_count": 11,
   "id": "fb2e3127",
   "metadata": {},
   "outputs": [
    {
     "data": {
      "text/plain": [
       "array([[20, 30],\n",
       "       [60, 70]])"
      ]
     },
     "execution_count": 11,
     "metadata": {},
     "output_type": "execute_result"
    }
   ],
   "source": [
    "X[:,1:3]"
   ]
  },
  {
   "cell_type": "code",
   "execution_count": 12,
   "id": "c4a672f9",
   "metadata": {},
   "outputs": [
    {
     "data": {
      "text/plain": [
       "array([20, 30])"
      ]
     },
     "execution_count": 12,
     "metadata": {},
     "output_type": "execute_result"
    }
   ],
   "source": [
    "X[0,1:3]"
   ]
  },
  {
   "cell_type": "code",
   "execution_count": 6,
   "id": "b502ccd1",
   "metadata": {},
   "outputs": [
    {
     "data": {
      "text/plain": [
       "array([[[ 10,  20,  30,  40],\n",
       "        [ 50,  60,  70,  80]],\n",
       "\n",
       "       [[100, 200, 300, 400],\n",
       "        [500, 600, 700, 800]]])"
      ]
     },
     "execution_count": 6,
     "metadata": {},
     "output_type": "execute_result"
    }
   ],
   "source": [
    "X = np.array([[[10,20,30,40],[50,60,70,80]],[[100,200,300,400],[500,600,700,800]]])\n",
    "X"
   ]
  },
  {
   "cell_type": "code",
   "execution_count": 7,
   "id": "208b8211",
   "metadata": {},
   "outputs": [
    {
     "name": "stdout",
     "output_type": "stream",
     "text": [
      "[[10 20 30 40]\n",
      " [50 60 70 80]]\n",
      "\n",
      "[[100 200 300 400]\n",
      " [500 600 700 800]]\n"
     ]
    }
   ],
   "source": [
    "print(X[0], X[1], sep=\"\\n\\n\")"
   ]
  },
  {
   "cell_type": "code",
   "execution_count": 8,
   "id": "3cfea5a3",
   "metadata": {},
   "outputs": [
    {
     "name": "stdout",
     "output_type": "stream",
     "text": [
      "[50 60 70 80]\n",
      "\n",
      "[100 200 300 400]\n"
     ]
    }
   ],
   "source": [
    "print(X[0,1], X[1,0], sep=\"\\n\\n\")"
   ]
  },
  {
   "cell_type": "code",
   "execution_count": 10,
   "id": "ba0cb4c7",
   "metadata": {},
   "outputs": [
    {
     "name": "stdout",
     "output_type": "stream",
     "text": [
      "[40 80]\n",
      "\n",
      "[300 700]\n"
     ]
    }
   ],
   "source": [
    "print(X[0,:,3], X[1,:,2], sep=\"\\n\\n\")"
   ]
  },
  {
   "cell_type": "code",
   "execution_count": 11,
   "id": "213d7fe6",
   "metadata": {},
   "outputs": [
    {
     "data": {
      "text/plain": [
       "300"
      ]
     },
     "execution_count": 11,
     "metadata": {},
     "output_type": "execute_result"
    }
   ],
   "source": [
    "X[1,0,2]"
   ]
  },
  {
   "cell_type": "code",
   "execution_count": 17,
   "id": "cb385a5c",
   "metadata": {},
   "outputs": [
    {
     "name": "stdout",
     "output_type": "stream",
     "text": [
      "[[0.30236822 0.1637452  0.78361766]\n",
      " [0.71098286 0.53290113 0.64216861]\n",
      " [0.2920466  0.00695872 0.37830307]\n",
      " [0.66352843 0.76664034 0.01142493]]\n",
      "\n",
      "[[0.30236822 0.1637452  0.78361766]\n",
      " [0.2920466  0.00695872 0.37830307]]\n",
      "\n",
      "[[0.30236822 0.78361766]\n",
      " [0.71098286 0.64216861]\n",
      " [0.2920466  0.37830307]\n",
      " [0.66352843 0.01142493]]\n"
     ]
    }
   ],
   "source": [
    "X=np.random.rand(4,3)\n",
    "Yrow=np.array([True, False, True, False])\n",
    "Ycol=np.array([True, False, True])\n",
    "print(X, X[Yrow==True], X[:, Ycol==True], sep=\"\\n\\n\")"
   ]
  },
  {
   "cell_type": "code",
   "execution_count": 19,
   "id": "78feae4b",
   "metadata": {},
   "outputs": [
    {
     "data": {
      "text/plain": [
       "array([[0.98836029, 0.85297278, 0.42589043],\n",
       "       [0.49405286, 0.65802824, 0.9655651 ],\n",
       "       [0.83053895, 0.9848238 , 0.31258058],\n",
       "       [0.89935767, 0.79199459, 0.79057659]])"
      ]
     },
     "execution_count": 19,
     "metadata": {},
     "output_type": "execute_result"
    }
   ],
   "source": [
    "X=np.random.rand(4,3)\n",
    "X"
   ]
  },
  {
   "cell_type": "code",
   "execution_count": 29,
   "id": "645109ab",
   "metadata": {},
   "outputs": [
    {
     "data": {
      "text/plain": [
       "array([0.31258058])"
      ]
     },
     "execution_count": 29,
     "metadata": {},
     "output_type": "execute_result"
    }
   ],
   "source": [
    "X[X<0.4]"
   ]
  },
  {
   "cell_type": "code",
   "execution_count": 37,
   "id": "6d4fe87c",
   "metadata": {},
   "outputs": [],
   "source": [
    "X[X<0.4] = 99"
   ]
  },
  {
   "cell_type": "code",
   "execution_count": 38,
   "id": "935fe4c7",
   "metadata": {},
   "outputs": [
    {
     "data": {
      "text/plain": [
       "array([[99., 99., 99.],\n",
       "       [99., 99., 99.],\n",
       "       [99., 99., 99.],\n",
       "       [99., 99., 99.]])"
      ]
     },
     "execution_count": 38,
     "metadata": {},
     "output_type": "execute_result"
    }
   ],
   "source": [
    "X"
   ]
  },
  {
   "cell_type": "code",
   "execution_count": 40,
   "id": "71473847",
   "metadata": {},
   "outputs": [
    {
     "data": {
      "text/plain": [
       "array([[0.24860556, 0.70247267, 0.8665756 , 0.92908556],\n",
       "       [0.73844554, 0.52662312, 0.84963643, 0.73430832],\n",
       "       [0.10072856, 0.83434816, 0.43581984, 0.25082671],\n",
       "       [0.69320226, 0.41226041, 0.55082993, 0.45958315],\n",
       "       [0.8428631 , 0.35177266, 0.86294005, 0.25229424],\n",
       "       [0.12224095, 0.27252694, 0.79530919, 0.47453337],\n",
       "       [0.36628278, 0.87805397, 0.00792831, 0.01589717],\n",
       "       [0.37507002, 0.16354021, 0.72375131, 0.27031079]])"
      ]
     },
     "execution_count": 40,
     "metadata": {},
     "output_type": "execute_result"
    }
   ],
   "source": [
    "X = np.random.rand(8,4)\n",
    "X"
   ]
  },
  {
   "cell_type": "code",
   "execution_count": 42,
   "id": "b1029508",
   "metadata": {},
   "outputs": [
    {
     "data": {
      "text/plain": [
       "array([0.24860556, 0.52662312])"
      ]
     },
     "execution_count": 42,
     "metadata": {},
     "output_type": "execute_result"
    }
   ],
   "source": [
    "X[[0,1], [0,1]]"
   ]
  },
  {
   "cell_type": "code",
   "execution_count": 43,
   "id": "d34f802e",
   "metadata": {},
   "outputs": [
    {
     "data": {
      "text/plain": [
       "array([[0.10072856, 0.83434816, 0.43581984, 0.25082671],\n",
       "       [0.8428631 , 0.35177266, 0.86294005, 0.25229424],\n",
       "       [0.12224095, 0.27252694, 0.79530919, 0.47453337]])"
      ]
     },
     "execution_count": 43,
     "metadata": {},
     "output_type": "execute_result"
    }
   ],
   "source": [
    "X[[2, 4, 5]]"
   ]
  },
  {
   "cell_type": "code",
   "execution_count": 44,
   "id": "2045cae5",
   "metadata": {},
   "outputs": [
    {
     "data": {
      "text/plain": [
       "array([[0.83434816, 0.43581984],\n",
       "       [0.35177266, 0.86294005],\n",
       "       [0.27252694, 0.79530919]])"
      ]
     },
     "execution_count": 44,
     "metadata": {},
     "output_type": "execute_result"
    }
   ],
   "source": [
    "X[[2, 4, 5]][:,[1,2]]"
   ]
  },
  {
   "cell_type": "code",
   "execution_count": 45,
   "id": "2fd13503",
   "metadata": {},
   "outputs": [
    {
     "data": {
      "text/plain": [
       "0.3517726550574086"
      ]
     },
     "execution_count": 45,
     "metadata": {},
     "output_type": "execute_result"
    }
   ],
   "source": [
    "X[[2, 4, 5]][:,[1,2]][1,0]"
   ]
  },
  {
   "cell_type": "code",
   "execution_count": 46,
   "id": "f9d4379f",
   "metadata": {},
   "outputs": [
    {
     "data": {
      "text/plain": [
       "array([[0.83713819, 0.50558805, 0.07709625, 0.28634448, 0.42165903],\n",
       "       [0.24706172, 0.51436643, 0.64343314, 0.49987903, 0.24537608],\n",
       "       [0.66996411, 0.13410019, 0.61956363, 0.13487905, 0.85767141],\n",
       "       [0.53157419, 0.58703108, 0.27457374, 0.50105728, 0.13608429],\n",
       "       [0.23561524, 0.52905431, 0.98974206, 0.53509453, 0.35908168],\n",
       "       [0.93369707, 0.61307965, 0.09278851, 0.20250831, 0.50863883],\n",
       "       [0.37066688, 0.72353315, 0.20997633, 0.58065429, 0.79179648],\n",
       "       [0.46408827, 0.87612265, 0.23403422, 0.09149897, 0.57578855]])"
      ]
     },
     "execution_count": 46,
     "metadata": {},
     "output_type": "execute_result"
    }
   ],
   "source": [
    "X = np.random.rand(8,5)\n",
    "X"
   ]
  },
  {
   "cell_type": "code",
   "execution_count": 48,
   "id": "682e86fe",
   "metadata": {},
   "outputs": [
    {
     "data": {
      "text/plain": [
       "array([[0.83713819, 0.24706172, 0.66996411, 0.53157419, 0.23561524,\n",
       "        0.93369707, 0.37066688, 0.46408827],\n",
       "       [0.50558805, 0.51436643, 0.13410019, 0.58703108, 0.52905431,\n",
       "        0.61307965, 0.72353315, 0.87612265],\n",
       "       [0.07709625, 0.64343314, 0.61956363, 0.27457374, 0.98974206,\n",
       "        0.09278851, 0.20997633, 0.23403422],\n",
       "       [0.28634448, 0.49987903, 0.13487905, 0.50105728, 0.53509453,\n",
       "        0.20250831, 0.58065429, 0.09149897],\n",
       "       [0.42165903, 0.24537608, 0.85767141, 0.13608429, 0.35908168,\n",
       "        0.50863883, 0.79179648, 0.57578855]])"
      ]
     },
     "execution_count": 48,
     "metadata": {},
     "output_type": "execute_result"
    }
   ],
   "source": [
    "X.transpose()\n"
   ]
  },
  {
   "cell_type": "code",
   "execution_count": 49,
   "id": "86be99df",
   "metadata": {},
   "outputs": [
    {
     "data": {
      "text/plain": [
       "array([[0.83713819, 0.24706172, 0.66996411, 0.53157419, 0.23561524,\n",
       "        0.93369707, 0.37066688, 0.46408827],\n",
       "       [0.50558805, 0.51436643, 0.13410019, 0.58703108, 0.52905431,\n",
       "        0.61307965, 0.72353315, 0.87612265],\n",
       "       [0.07709625, 0.64343314, 0.61956363, 0.27457374, 0.98974206,\n",
       "        0.09278851, 0.20997633, 0.23403422],\n",
       "       [0.28634448, 0.49987903, 0.13487905, 0.50105728, 0.53509453,\n",
       "        0.20250831, 0.58065429, 0.09149897],\n",
       "       [0.42165903, 0.24537608, 0.85767141, 0.13608429, 0.35908168,\n",
       "        0.50863883, 0.79179648, 0.57578855]])"
      ]
     },
     "execution_count": 49,
     "metadata": {},
     "output_type": "execute_result"
    }
   ],
   "source": [
    "X.T"
   ]
  },
  {
   "cell_type": "code",
   "execution_count": 50,
   "id": "fbb04d59",
   "metadata": {},
   "outputs": [
    {
     "data": {
      "text/plain": [
       "array([[[0.29635631, 0.03426078, 0.35641005, 0.64173672, 0.82434158],\n",
       "        [0.44035378, 0.49402145, 0.95748016, 0.38624321, 0.53885176],\n",
       "        [0.02058278, 0.1836885 , 0.49340767, 0.68182127, 0.78311759],\n",
       "        [0.13035186, 0.35150039, 0.88045643, 0.6118491 , 0.74932204],\n",
       "        [0.05936735, 0.77568901, 0.99195668, 0.76560234, 0.01150683],\n",
       "        [0.47440298, 0.70084293, 0.78461687, 0.63438858, 0.55647243],\n",
       "        [0.80013322, 0.30911528, 0.82109944, 0.37351317, 0.14454189],\n",
       "        [0.52046321, 0.62844441, 0.51706355, 0.46004225, 0.04710793]],\n",
       "\n",
       "       [[0.71187951, 0.84443438, 0.21872359, 0.82401892, 0.55015733],\n",
       "        [0.66133003, 0.23000628, 0.5300154 , 0.5737578 , 0.57277642],\n",
       "        [0.32041708, 0.37864965, 0.32836635, 0.1486115 , 0.96018037],\n",
       "        [0.62956056, 0.17577157, 0.8531888 , 0.22285799, 0.38261814],\n",
       "        [0.79461565, 0.05605104, 0.78055607, 0.02279529, 0.11713092],\n",
       "        [0.10444048, 0.80637923, 0.76359072, 0.87675392, 0.19146894],\n",
       "        [0.23134626, 0.77625475, 0.36407645, 0.28559693, 0.28755683],\n",
       "        [0.94647932, 0.08629913, 0.3489706 , 0.03675602, 0.80957764]]])"
      ]
     },
     "execution_count": 50,
     "metadata": {},
     "output_type": "execute_result"
    }
   ],
   "source": [
    "X = np.random.rand(2,8,5)\n",
    "X"
   ]
  },
  {
   "cell_type": "code",
   "execution_count": 51,
   "id": "15447f67",
   "metadata": {},
   "outputs": [
    {
     "data": {
      "text/plain": [
       "array([[[0.29635631, 0.71187951],\n",
       "        [0.44035378, 0.66133003],\n",
       "        [0.02058278, 0.32041708],\n",
       "        [0.13035186, 0.62956056],\n",
       "        [0.05936735, 0.79461565],\n",
       "        [0.47440298, 0.10444048],\n",
       "        [0.80013322, 0.23134626],\n",
       "        [0.52046321, 0.94647932]],\n",
       "\n",
       "       [[0.03426078, 0.84443438],\n",
       "        [0.49402145, 0.23000628],\n",
       "        [0.1836885 , 0.37864965],\n",
       "        [0.35150039, 0.17577157],\n",
       "        [0.77568901, 0.05605104],\n",
       "        [0.70084293, 0.80637923],\n",
       "        [0.30911528, 0.77625475],\n",
       "        [0.62844441, 0.08629913]],\n",
       "\n",
       "       [[0.35641005, 0.21872359],\n",
       "        [0.95748016, 0.5300154 ],\n",
       "        [0.49340767, 0.32836635],\n",
       "        [0.88045643, 0.8531888 ],\n",
       "        [0.99195668, 0.78055607],\n",
       "        [0.78461687, 0.76359072],\n",
       "        [0.82109944, 0.36407645],\n",
       "        [0.51706355, 0.3489706 ]],\n",
       "\n",
       "       [[0.64173672, 0.82401892],\n",
       "        [0.38624321, 0.5737578 ],\n",
       "        [0.68182127, 0.1486115 ],\n",
       "        [0.6118491 , 0.22285799],\n",
       "        [0.76560234, 0.02279529],\n",
       "        [0.63438858, 0.87675392],\n",
       "        [0.37351317, 0.28559693],\n",
       "        [0.46004225, 0.03675602]],\n",
       "\n",
       "       [[0.82434158, 0.55015733],\n",
       "        [0.53885176, 0.57277642],\n",
       "        [0.78311759, 0.96018037],\n",
       "        [0.74932204, 0.38261814],\n",
       "        [0.01150683, 0.11713092],\n",
       "        [0.55647243, 0.19146894],\n",
       "        [0.14454189, 0.28755683],\n",
       "        [0.04710793, 0.80957764]]])"
      ]
     },
     "execution_count": 51,
     "metadata": {},
     "output_type": "execute_result"
    }
   ],
   "source": [
    "X.T"
   ]
  }
 ],
 "metadata": {
  "kernelspec": {
   "display_name": "Python 3 (ipykernel)",
   "language": "python",
   "name": "python3"
  },
  "language_info": {
   "codemirror_mode": {
    "name": "ipython",
    "version": 3
   },
   "file_extension": ".py",
   "mimetype": "text/x-python",
   "name": "python",
   "nbconvert_exporter": "python",
   "pygments_lexer": "ipython3",
   "version": "3.11.4"
  }
 },
 "nbformat": 4,
 "nbformat_minor": 5
}
