{
 "cells": [
  {
   "cell_type": "code",
   "execution_count": 1,
   "id": "f0e2790c",
   "metadata": {},
   "outputs": [
    {
     "ename": "NameError",
     "evalue": "name 'np' is not defined",
     "output_type": "error",
     "traceback": [
      "\u001b[1;31m---------------------------------------------------------------------------\u001b[0m",
      "\u001b[1;31mNameError\u001b[0m                                 Traceback (most recent call last)",
      "Cell \u001b[1;32mIn[1], line 1\u001b[0m\n\u001b[1;32m----> 1\u001b[0m X \u001b[38;5;241m=\u001b[39m np\u001b[38;5;241m.\u001b[39marray([[\u001b[38;5;241m10\u001b[39m, \u001b[38;5;241m20\u001b[39m, \u001b[38;5;241m30\u001b[39m, \u001b[38;5;241m40\u001b[39m], [\u001b[38;5;241m50\u001b[39m, \u001b[38;5;241m60\u001b[39m, \u001b[38;5;241m70\u001b[39m, \u001b[38;5;241m80\u001b[39m]])\n\u001b[0;32m      2\u001b[0m Y \u001b[38;5;241m=\u001b[39m np\u001b[38;5;241m.\u001b[39marray([[\u001b[38;5;241m1\u001b[39m, \u001b[38;5;241m2\u001b[39m, \u001b[38;5;241m3\u001b[39m, \u001b[38;5;241m4\u001b[39m], [\u001b[38;5;241m5\u001b[39m, \u001b[38;5;241m6\u001b[39m, \u001b[38;5;241m7\u001b[39m, \u001b[38;5;241m8\u001b[39m]])\n\u001b[0;32m      3\u001b[0m \u001b[38;5;28mprint\u001b[39m(X\u001b[38;5;241m+\u001b[39mY, X\u001b[38;5;241m-\u001b[39mY, X\u001b[38;5;241m*\u001b[39mY, X\u001b[38;5;241m/\u001b[39mY, sep\u001b[38;5;241m=\u001b[39m\u001b[38;5;124m\"\u001b[39m\u001b[38;5;130;01m\\n\u001b[39;00m\u001b[38;5;130;01m\\n\u001b[39;00m\u001b[38;5;124m\"\u001b[39m)\n",
      "\u001b[1;31mNameError\u001b[0m: name 'np' is not defined"
     ]
    }
   ],
   "source": [
    "X = np.array([[10, 20, 30, 40], [50, 60, 70, 80]])\n",
    "Y = np.array([[1, 2, 3, 4], [5, 6, 7, 8]])\n",
    "print(X+Y, X-Y, X*Y, X/Y, sep=\"\\n\\n\")"
   ]
  },
  {
   "cell_type": "code",
   "execution_count": 3,
   "id": "68f40597",
   "metadata": {},
   "outputs": [],
   "source": [
    "import numpy as np"
   ]
  },
  {
   "cell_type": "code",
   "execution_count": 4,
   "id": "cc48ba47",
   "metadata": {},
   "outputs": [
    {
     "data": {
      "text/plain": [
       "array([10, 20, 30, 40, 50])"
      ]
     },
     "execution_count": 4,
     "metadata": {},
     "output_type": "execute_result"
    }
   ],
   "source": [
    "X = np.array([10, 20,30,40,50])\n",
    "X"
   ]
  },
  {
   "cell_type": "code",
   "execution_count": 5,
   "id": "0a99442f",
   "metadata": {},
   "outputs": [
    {
     "name": "stdout",
     "output_type": "stream",
     "text": [
      "[3.16227766 4.47213595 5.47722558 6.32455532 7.07106781]\n",
      "\n",
      "[ 100  400  900 1600 2500]\n"
     ]
    }
   ],
   "source": [
    "print(np.sqrt(X), np.square(X), sep =\"\\n\\n\")"
   ]
  },
  {
   "cell_type": "code",
   "execution_count": 6,
   "id": "6f2fc173",
   "metadata": {},
   "outputs": [
    {
     "name": "stdout",
     "output_type": "stream",
     "text": [
      "[[ 1  2]\n",
      " [ 3  4]\n",
      " [ 5  6]\n",
      " [ 7  8]\n",
      " [ 9 10]]\n",
      "\n",
      "[[11 12]\n",
      " [13 14]\n",
      " [15 16]\n",
      " [17 18]\n",
      " [19 20]]\n"
     ]
    }
   ],
   "source": [
    "X = np.arange(1,11).reshape(5,2)\n",
    "Y = np.arange(11,21).reshape(5,2)\n",
    "print(X, Y, sep =\"\\n\\n\")"
   ]
  },
  {
   "cell_type": "code",
   "execution_count": 7,
   "id": "a6aeee1d",
   "metadata": {},
   "outputs": [
    {
     "name": "stdout",
     "output_type": "stream",
     "text": [
      "[[12 14]\n",
      " [16 18]\n",
      " [20 22]\n",
      " [24 26]\n",
      " [28 30]]\n",
      "\n",
      "[[-10 -10]\n",
      " [-10 -10]\n",
      " [-10 -10]\n",
      " [-10 -10]\n",
      " [-10 -10]]\n"
     ]
    }
   ],
   "source": [
    "print(np.add(X, Y), np.subtract(X, Y), sep = \"\\n\\n\")"
   ]
  },
  {
   "cell_type": "code",
   "execution_count": 8,
   "id": "27ae522e",
   "metadata": {},
   "outputs": [
    {
     "data": {
      "text/plain": [
       "array([10., 20., 30., 40., 50., nan])"
      ]
     },
     "execution_count": 8,
     "metadata": {},
     "output_type": "execute_result"
    }
   ],
   "source": [
    "X = np.array([10,20,30,40,50,np.nan])\n",
    "X"
   ]
  },
  {
   "cell_type": "code",
   "execution_count": 9,
   "id": "e7aa4a4c",
   "metadata": {},
   "outputs": [
    {
     "data": {
      "text/plain": [
       "array([False, False, False, False, False,  True])"
      ]
     },
     "execution_count": 9,
     "metadata": {},
     "output_type": "execute_result"
    }
   ],
   "source": [
    "np.isnan(X)"
   ]
  },
  {
   "cell_type": "code",
   "execution_count": 10,
   "id": "d14377b9",
   "metadata": {},
   "outputs": [
    {
     "data": {
      "text/plain": [
       "True"
      ]
     },
     "execution_count": 10,
     "metadata": {},
     "output_type": "execute_result"
    }
   ],
   "source": [
    "np.isnan(X).any()"
   ]
  },
  {
   "cell_type": "code",
   "execution_count": 11,
   "id": "e9003833",
   "metadata": {},
   "outputs": [
    {
     "name": "stdout",
     "output_type": "stream",
     "text": [
      "[ 1  2  3  4  5  6  7  8  9 10]\n",
      "\n",
      "[11 12 13 14 15 16 17 18 19 20]\n",
      "\n",
      "[[ 1  2  3  4  5  6  7  8  9 10]\n",
      " [ 1  2  3  4  5  6  7  8  9 10]\n",
      " [ 1  2  3  4  5  6  7  8  9 10]\n",
      " [ 1  2  3  4  5  6  7  8  9 10]\n",
      " [ 1  2  3  4  5  6  7  8  9 10]\n",
      " [ 1  2  3  4  5  6  7  8  9 10]\n",
      " [ 1  2  3  4  5  6  7  8  9 10]\n",
      " [ 1  2  3  4  5  6  7  8  9 10]\n",
      " [ 1  2  3  4  5  6  7  8  9 10]\n",
      " [ 1  2  3  4  5  6  7  8  9 10]]\n",
      "\n",
      "[[11 11 11 11 11 11 11 11 11 11]\n",
      " [12 12 12 12 12 12 12 12 12 12]\n",
      " [13 13 13 13 13 13 13 13 13 13]\n",
      " [14 14 14 14 14 14 14 14 14 14]\n",
      " [15 15 15 15 15 15 15 15 15 15]\n",
      " [16 16 16 16 16 16 16 16 16 16]\n",
      " [17 17 17 17 17 17 17 17 17 17]\n",
      " [18 18 18 18 18 18 18 18 18 18]\n",
      " [19 19 19 19 19 19 19 19 19 19]\n",
      " [20 20 20 20 20 20 20 20 20 20]]\n"
     ]
    }
   ],
   "source": [
    "X = np.arange(1,11)\n",
    "Y = np.arange(11,21)\n",
    "x1,y1 = np.meshgrid(X,Y)\n",
    "print(X, Y, x1, y1, sep = \"\\n\\n\")"
   ]
  },
  {
   "cell_type": "code",
   "execution_count": 16,
   "id": "e81d48e7",
   "metadata": {},
   "outputs": [
    {
     "name": "stdout",
     "output_type": "stream",
     "text": [
      "[[12 13 14 15 16 17 18 19 20 21]\n",
      " [13 14 15 16 17 18 19 20 21 22]\n",
      " [14 15 16 17 18 19 20 21 22 23]\n",
      " [15 16 17 18 19 20 21 22 23 24]\n",
      " [16 17 18 19 20 21 22 23 24 25]\n",
      " [17 18 19 20 21 22 23 24 25 26]\n",
      " [18 19 20 21 22 23 24 25 26 27]\n",
      " [19 20 21 22 23 24 25 26 27 28]\n",
      " [20 21 22 23 24 25 26 27 28 29]\n",
      " [21 22 23 24 25 26 27 28 29 30]]\n",
      "\n",
      "[[10  9  8  7  6  5  4  3  2  1]\n",
      " [11 10  9  8  7  6  5  4  3  2]\n",
      " [12 11 10  9  8  7  6  5  4  3]\n",
      " [13 12 11 10  9  8  7  6  5  4]\n",
      " [14 13 12 11 10  9  8  7  6  5]\n",
      " [15 14 13 12 11 10  9  8  7  6]\n",
      " [16 15 14 13 12 11 10  9  8  7]\n",
      " [17 16 15 14 13 12 11 10  9  8]\n",
      " [18 17 16 15 14 13 12 11 10  9]\n",
      " [19 18 17 16 15 14 13 12 11 10]]\n"
     ]
    }
   ],
   "source": [
    "Z = np.add(x1, y1)\n",
    "print(Z, np.subtract(y1, x1), sep =\"\\n\\n\")"
   ]
  },
  {
   "cell_type": "code",
   "execution_count": 17,
   "id": "64961cb0",
   "metadata": {},
   "outputs": [
    {
     "name": "stdout",
     "output_type": "stream",
     "text": [
      "[1 2 3 4]\n",
      "\n",
      "[11 12 13 14]\n",
      "\n",
      "[ True False  True False]\n",
      "\n",
      "[ 1 12  3 14]\n"
     ]
    }
   ],
   "source": [
    "X = np.arange(1,5)\n",
    "Y = np.arange(11,15)\n",
    "Z = np.array([True, False, True, False])\n",
    "print(X, Y, Z, np.where(Z, X, Y), sep=\"\\n\\n\")"
   ]
  },
  {
   "cell_type": "code",
   "execution_count": 18,
   "id": "9224aa0d",
   "metadata": {},
   "outputs": [
    {
     "data": {
      "text/plain": [
       "array([[ 0,  1,  2],\n",
       "       [ 3,  4,  5],\n",
       "       [ 6,  7,  8],\n",
       "       [ 9, 10, 11],\n",
       "       [12, 13, 14]])"
      ]
     },
     "execution_count": 18,
     "metadata": {},
     "output_type": "execute_result"
    }
   ],
   "source": [
    "X = np.arange(15).reshape((5,3))\n",
    "X"
   ]
  },
  {
   "cell_type": "code",
   "execution_count": 19,
   "id": "42c79109",
   "metadata": {},
   "outputs": [
    {
     "name": "stdout",
     "output_type": "stream",
     "text": [
      "7.0\n",
      "7.0\n",
      "4.320493798938574\n"
     ]
    }
   ],
   "source": [
    "print(np.mean(X), np.median(X), np.std(X), sep=\"\\n\")\n"
   ]
  },
  {
   "cell_type": "code",
   "execution_count": 20,
   "id": "9959f611",
   "metadata": {},
   "outputs": [
    {
     "name": "stdout",
     "output_type": "stream",
     "text": [
      "[6. 7. 8.]\n",
      "[ 1.  4.  7. 10. 13.]\n"
     ]
    }
   ],
   "source": [
    "print(np.mean(X, axis = 0), np.mean(X, axis = 1) , sep=\"\\n\")"
   ]
  },
  {
   "cell_type": "markdown",
   "id": "4a0c5b9c",
   "metadata": {},
   "source": [
    "#    Boolean Array"
   ]
  },
  {
   "cell_type": "code",
   "execution_count": 24,
   "id": "fc5759d2",
   "metadata": {},
   "outputs": [
    {
     "name": "stdout",
     "output_type": "stream",
     "text": [
      "[ True False  True False]\n",
      "bool\n"
     ]
    }
   ],
   "source": [
    "X = np.array([True, False, True, False])\n",
    "X\n",
    "print(X, X.dtype, sep=\"\\n\")"
   ]
  },
  {
   "cell_type": "code",
   "execution_count": 26,
   "id": "77b9cb79",
   "metadata": {},
   "outputs": [
    {
     "name": "stdout",
     "output_type": "stream",
     "text": [
      "True,False,2\n"
     ]
    }
   ],
   "source": [
    "print(X.any(), X.all(), X.sum(), sep=\",\")"
   ]
  },
  {
   "cell_type": "code",
   "execution_count": 28,
   "id": "c70d4de6",
   "metadata": {},
   "outputs": [
    {
     "data": {
      "text/plain": [
       "array([[0.8992038 , 0.5483911 , 0.32056156, 0.85136647, 0.7830558 ,\n",
       "        0.61353339, 0.47099068, 0.47534735, 0.44447269],\n",
       "       [0.20468713, 0.50176842, 0.94418037, 0.29270472, 0.75069615,\n",
       "        0.84165649, 0.6435008 , 0.43226641, 0.66823757],\n",
       "       [0.65853808, 0.79856219, 0.74938213, 0.15968063, 0.07408753,\n",
       "        0.74586397, 0.52490209, 0.34750757, 0.17796032],\n",
       "       [0.08093344, 0.52283138, 0.79774892, 0.60602448, 0.96391288,\n",
       "        0.26225192, 0.97319109, 0.90778656, 0.81941181],\n",
       "       [0.97320574, 0.19679409, 0.06855651, 0.85876456, 0.94348198,\n",
       "        0.96521809, 0.63594053, 0.39630129, 0.53973765],\n",
       "       [0.6277403 , 0.58466657, 0.68265562, 0.20156365, 0.91905914,\n",
       "        0.55567827, 0.46220042, 0.22031403, 0.51554502],\n",
       "       [0.11586124, 0.73444892, 0.48824602, 0.19497417, 0.89492074,\n",
       "        0.30030768, 0.07230218, 0.25981037, 0.26609342],\n",
       "       [0.21019173, 0.35411911, 0.32206449, 0.40495945, 0.96965799,\n",
       "        0.43733337, 0.38231986, 0.41023446, 0.79405253],\n",
       "       [0.68172583, 0.15720168, 0.90180981, 0.70196239, 0.19056191,\n",
       "        0.76632718, 0.83249979, 0.7852076 , 0.77583692],\n",
       "       [0.21490448, 0.92489919, 0.68424859, 0.52616919, 0.87719741,\n",
       "        0.53036362, 0.87197046, 0.12433404, 0.90619676]])"
      ]
     },
     "execution_count": 28,
     "metadata": {},
     "output_type": "execute_result"
    }
   ],
   "source": [
    "X = np.random.rand(10,9)\n",
    "X"
   ]
  },
  {
   "cell_type": "code",
   "execution_count": 30,
   "id": "66cd95b2",
   "metadata": {},
   "outputs": [
    {
     "name": "stdout",
     "output_type": "stream",
     "text": [
      "[[ True  True False  True  True  True False False False]\n",
      " [False  True  True False  True  True  True False  True]\n",
      " [ True  True  True False False  True  True False False]\n",
      " [False  True  True  True  True False  True  True  True]\n",
      " [ True False False  True  True  True  True False  True]\n",
      " [ True  True  True False  True  True False False  True]\n",
      " [False  True False False  True False False False False]\n",
      " [False False False False  True False False False  True]\n",
      " [ True False  True  True False  True  True  True  True]\n",
      " [False  True  True  True  True  True  True False  True]]\n",
      "53\n",
      "False\n",
      "True\n"
     ]
    }
   ],
   "source": [
    "print(X>0.5, (X>0.5).sum(), (X>0.5).all(), (X>0.5).any(), sep=\"\\n\")"
   ]
  },
  {
   "cell_type": "markdown",
   "id": "ffbd66ef",
   "metadata": {},
   "source": [
    "#       Sorting"
   ]
  },
  {
   "cell_type": "code",
   "execution_count": 31,
   "id": "86feab01",
   "metadata": {},
   "outputs": [
    {
     "data": {
      "text/plain": [
       "array([[0.22197201, 0.64541505, 0.78054969, 0.85865797],\n",
       "       [0.3614991 , 0.72422486, 0.73073002, 0.72021073],\n",
       "       [0.03513733, 0.64562347, 0.69386773, 0.15970393],\n",
       "       [0.3638032 , 0.67315108, 0.42751865, 0.41435245],\n",
       "       [0.3913692 , 0.26472751, 0.81105594, 0.32824882]])"
      ]
     },
     "execution_count": 31,
     "metadata": {},
     "output_type": "execute_result"
    }
   ],
   "source": [
    "X = np.random.rand(5,4)\n",
    "X"
   ]
  },
  {
   "cell_type": "code",
   "execution_count": 32,
   "id": "1a9fd07d",
   "metadata": {},
   "outputs": [
    {
     "name": "stdout",
     "output_type": "stream",
     "text": [
      "[[0.03513733 0.26472751 0.42751865 0.15970393]\n",
      " [0.22197201 0.64541505 0.69386773 0.32824882]\n",
      " [0.3614991  0.64562347 0.73073002 0.41435245]\n",
      " [0.3638032  0.67315108 0.78054969 0.72021073]\n",
      " [0.3913692  0.72422486 0.81105594 0.85865797]]\n",
      "\n",
      "[[0.22197201 0.64541505 0.78054969 0.85865797]\n",
      " [0.3614991  0.72021073 0.72422486 0.73073002]\n",
      " [0.03513733 0.15970393 0.64562347 0.69386773]\n",
      " [0.3638032  0.41435245 0.42751865 0.67315108]\n",
      " [0.26472751 0.32824882 0.3913692  0.81105594]]\n",
      "\n",
      "[0.03513733 0.15970393 0.22197201 0.26472751 0.32824882 0.3614991\n",
      " 0.3638032  0.3913692  0.41435245 0.42751865 0.64541505 0.64562347\n",
      " 0.67315108 0.69386773 0.72021073 0.72422486 0.73073002 0.78054969\n",
      " 0.81105594 0.85865797]\n"
     ]
    }
   ],
   "source": [
    "print(np.sort(X, axis=0), np.sort(X, axis=1), np.sort(X, axis=None), sep=\"\\n\\n\")"
   ]
  },
  {
   "cell_type": "markdown",
   "id": "012093cf",
   "metadata": {},
   "source": [
    "#    Other Functions"
   ]
  },
  {
   "cell_type": "code",
   "execution_count": 35,
   "id": "057d268e",
   "metadata": {},
   "outputs": [
    {
     "data": {
      "text/plain": [
       "array([ 10,  20,  30,  40,  50,  10,  20,  40, 100, 150,  30])"
      ]
     },
     "execution_count": 35,
     "metadata": {},
     "output_type": "execute_result"
    }
   ],
   "source": [
    "X = np.array([10, 20, 30, 40, 50, 10, 20, 40, 100, 150, 30])\n",
    "X"
   ]
  },
  {
   "cell_type": "code",
   "execution_count": 34,
   "id": "b80e9686",
   "metadata": {},
   "outputs": [
    {
     "data": {
      "text/plain": [
       "array([ 10,  20,  30,  40,  50, 100, 150])"
      ]
     },
     "execution_count": 34,
     "metadata": {},
     "output_type": "execute_result"
    }
   ],
   "source": [
    "np.unique(X)"
   ]
  },
  {
   "cell_type": "code",
   "execution_count": 40,
   "id": "569dde0b",
   "metadata": {},
   "outputs": [
    {
     "name": "stdout",
     "output_type": "stream",
     "text": [
      "[ True  True  True  True False  True  True  True False False  True]\n",
      "\n",
      "[ 10  20  30  34  40  45  50  56 100 150]\n",
      "\n",
      "[ 50 100 150]\n"
     ]
    }
   ],
   "source": [
    "X = np.array([10, 20, 30, 40, 50, 10, 20, 40, 100, 150, 30])\n",
    "Y = np.array([10, 20, 30, 40, 45, 56, 34])\n",
    "print(np.in1d(X,Y), np.union1d(X,Y), np.setdiff1d(X,Y), sep=\"\\n\\n\")"
   ]
  },
  {
   "cell_type": "code",
   "execution_count": 41,
   "id": "e8e2599b",
   "metadata": {},
   "outputs": [
    {
     "name": "stdout",
     "output_type": "stream",
     "text": [
      "[ True  True  True  True False False False]\n",
      "\n",
      "[ 10  20  30  34  40  45  50  56 100 150]\n",
      "\n",
      "[34 45 56]\n"
     ]
    }
   ],
   "source": [
    "print(np.in1d(Y,X), np.union1d(Y,X), np.setdiff1d(Y,X), sep=\"\\n\\n\")"
   ]
  },
  {
   "cell_type": "markdown",
   "id": "e04b1da8",
   "metadata": {},
   "source": [
    "#   File Save"
   ]
  },
  {
   "cell_type": "code",
   "execution_count": 42,
   "id": "e7c5ca12",
   "metadata": {},
   "outputs": [
    {
     "data": {
      "text/plain": [
       "array([[0.37957943, 0.06918734, 0.05379798],\n",
       "       [0.40971114, 0.06739359, 0.91155539],\n",
       "       [0.54504287, 0.20272847, 0.59236232],\n",
       "       [0.61375856, 0.37114977, 0.76725207],\n",
       "       [0.56493311, 0.00495258, 0.62653309]])"
      ]
     },
     "execution_count": 42,
     "metadata": {},
     "output_type": "execute_result"
    }
   ],
   "source": [
    "X = np.random.rand(5,3)\n",
    "X"
   ]
  },
  {
   "cell_type": "code",
   "execution_count": 43,
   "id": "bc2a9c2c",
   "metadata": {},
   "outputs": [],
   "source": [
    "np.save(\"FileSave1.npy\", X)"
   ]
  },
  {
   "cell_type": "code",
   "execution_count": 45,
   "id": "2c572529",
   "metadata": {},
   "outputs": [
    {
     "data": {
      "text/plain": [
       "array([[0.37957943, 0.06918734, 0.05379798],\n",
       "       [0.40971114, 0.06739359, 0.91155539],\n",
       "       [0.54504287, 0.20272847, 0.59236232],\n",
       "       [0.61375856, 0.37114977, 0.76725207],\n",
       "       [0.56493311, 0.00495258, 0.62653309]])"
      ]
     },
     "execution_count": 45,
     "metadata": {},
     "output_type": "execute_result"
    }
   ],
   "source": [
    "Y = np.load(\"FileSave1.npy\")\n",
    "Y"
   ]
  },
  {
   "cell_type": "code",
   "execution_count": 49,
   "id": "44f45f72",
   "metadata": {},
   "outputs": [
    {
     "name": "stdout",
     "output_type": "stream",
     "text": [
      "[[0.89249262 0.21723383 0.51858284]\n",
      " [0.11470331 0.33597517 0.7632861 ]\n",
      " [0.49487289 0.90090238 0.39350134]\n",
      " [0.79965634 0.10060833 0.43554404]\n",
      " [0.43687655 0.14019129 0.87851396]]\n",
      "\n",
      "[[0.78180167 0.03572461 0.71332974]\n",
      " [0.75578209 0.73997916 0.01790989]\n",
      " [0.5654964  0.85980999 0.14009536]\n",
      " [0.62024286 0.18015847 0.0762287 ]\n",
      " [0.30721308 0.1720459  0.65814939]]\n"
     ]
    }
   ],
   "source": [
    "X = np.random.rand(5,3)\n",
    "Y = np.random.rand(5,3)\n",
    "print(X, Y, sep=\"\\n\\n\")"
   ]
  },
  {
   "cell_type": "code",
   "execution_count": 50,
   "id": "7af85e8c",
   "metadata": {},
   "outputs": [],
   "source": [
    "np.savez(\"FileSave2.npz\", Xfile = X, Yfile = Y)"
   ]
  },
  {
   "cell_type": "code",
   "execution_count": 51,
   "id": "a7bbe702",
   "metadata": {},
   "outputs": [
    {
     "name": "stdout",
     "output_type": "stream",
     "text": [
      "[[0.89249262 0.21723383 0.51858284]\n",
      " [0.11470331 0.33597517 0.7632861 ]\n",
      " [0.49487289 0.90090238 0.39350134]\n",
      " [0.79965634 0.10060833 0.43554404]\n",
      " [0.43687655 0.14019129 0.87851396]]\n",
      "\n",
      "[[0.78180167 0.03572461 0.71332974]\n",
      " [0.75578209 0.73997916 0.01790989]\n",
      " [0.5654964  0.85980999 0.14009536]\n",
      " [0.62024286 0.18015847 0.0762287 ]\n",
      " [0.30721308 0.1720459  0.65814939]]\n"
     ]
    }
   ],
   "source": [
    "Z= np.load(\"FileSave2.npz\")\n",
    "print(Z['Xfile'], Z['Yfile'], sep=\"\\n\\n\")"
   ]
  },
  {
   "cell_type": "code",
   "execution_count": null,
   "id": "a1a8d6bc",
   "metadata": {},
   "outputs": [],
   "source": []
  },
  {
   "cell_type": "code",
   "execution_count": null,
   "id": "99c054f6",
   "metadata": {},
   "outputs": [],
   "source": []
  }
 ],
 "metadata": {
  "kernelspec": {
   "display_name": "Python 3 (ipykernel)",
   "language": "python",
   "name": "python3"
  },
  "language_info": {
   "codemirror_mode": {
    "name": "ipython",
    "version": 3
   },
   "file_extension": ".py",
   "mimetype": "text/x-python",
   "name": "python",
   "nbconvert_exporter": "python",
   "pygments_lexer": "ipython3",
   "version": "3.11.4"
  }
 },
 "nbformat": 4,
 "nbformat_minor": 5
}
