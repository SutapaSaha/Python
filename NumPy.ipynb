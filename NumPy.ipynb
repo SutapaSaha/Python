{
 "cells": [
  {
   "cell_type": "code",
   "execution_count": 2,
   "id": "b612e439",
   "metadata": {},
   "outputs": [],
   "source": [
    "import numpy as np"
   ]
  },
  {
   "cell_type": "code",
   "execution_count": 9,
   "id": "ea3610c1",
   "metadata": {},
   "outputs": [
    {
     "name": "stdout",
     "output_type": "stream",
     "text": [
      "[10 20 30]\n",
      "<class 'numpy.ndarray'>\n",
      "1,(3,),3,4,12,int32\n"
     ]
    }
   ],
   "source": [
    "X = np.array([10,20,30])\n",
    "print(X, type(X), sep=\"\\n\")\n",
    "print(X.ndim, X.shape, X.size, X.itemsize, X.nbytes, X.dtype, sep=\",\")"
   ]
  },
  {
   "cell_type": "code",
   "execution_count": 11,
   "id": "4c30acde",
   "metadata": {},
   "outputs": [
    {
     "name": "stdout",
     "output_type": "stream",
     "text": [
      "[0. 0. 0. 0. 0. 0. 0. 0. 0. 0.]\n",
      "<class 'numpy.ndarray'>\n",
      "1,(10,),10,8,80,float64\n"
     ]
    }
   ],
   "source": [
    "X = np.zeros(10)\n",
    "print(X, type(X), sep=\"\\n\")\n",
    "print(X.ndim, X.shape, X.size, X.itemsize, X.nbytes, X.dtype, sep=\",\")"
   ]
  },
  {
   "cell_type": "code",
   "execution_count": 12,
   "id": "a7edcb92",
   "metadata": {},
   "outputs": [
    {
     "name": "stdout",
     "output_type": "stream",
     "text": [
      "[1. 1. 1. 1. 1. 1. 1. 1. 1. 1.]\n",
      "<class 'numpy.ndarray'>\n",
      "1,(10,),10,8,80,float64\n"
     ]
    }
   ],
   "source": [
    "X = np.ones(10)\n",
    "print(X, type(X), sep=\"\\n\")\n",
    "print(X.ndim, X.shape, X.size, X.itemsize, X.nbytes, X.dtype, sep=\",\")"
   ]
  },
  {
   "cell_type": "code",
   "execution_count": 13,
   "id": "d5aa7ee5",
   "metadata": {},
   "outputs": [
    {
     "name": "stdout",
     "output_type": "stream",
     "text": [
      "[2.12199579e-314 8.44554325e-312 6.06712613e-321 8.44554325e-312]\n",
      "<class 'numpy.ndarray'>\n",
      "1,(4,),4,8,32,float64\n"
     ]
    }
   ],
   "source": [
    "X = np.empty(4)\n",
    "print(X, type(X), sep=\"\\n\")\n",
    "print(X.ndim, X.shape, X.size, X.itemsize, X.nbytes, X.dtype, sep=\",\")"
   ]
  },
  {
   "cell_type": "code",
   "execution_count": 14,
   "id": "f459fd2f",
   "metadata": {},
   "outputs": [
    {
     "name": "stdout",
     "output_type": "stream",
     "text": [
      "[[1. 1. 1.]\n",
      " [1. 1. 1.]\n",
      " [1. 1. 1.]\n",
      " [1. 1. 1.]\n",
      " [1. 1. 1.]]\n",
      "<class 'numpy.ndarray'>\n",
      "2,(5, 3),15,8,120,float64\n"
     ]
    }
   ],
   "source": [
    "X = np.ones((5,3))\n",
    "print(X, type(X), sep=\"\\n\")\n",
    "print(X.ndim, X.shape, X.size, X.itemsize, X.nbytes, X.dtype, sep=\",\")"
   ]
  },
  {
   "cell_type": "code",
   "execution_count": 15,
   "id": "9f674668",
   "metadata": {},
   "outputs": [
    {
     "name": "stdout",
     "output_type": "stream",
     "text": [
      "[[[1. 1. 1.]\n",
      "  [1. 1. 1.]\n",
      "  [1. 1. 1.]\n",
      "  [1. 1. 1.]\n",
      "  [1. 1. 1.]]\n",
      "\n",
      " [[1. 1. 1.]\n",
      "  [1. 1. 1.]\n",
      "  [1. 1. 1.]\n",
      "  [1. 1. 1.]\n",
      "  [1. 1. 1.]]]\n",
      "<class 'numpy.ndarray'>\n",
      "3,(2, 5, 3),30,8,240,float64\n"
     ]
    }
   ],
   "source": [
    "X = np.ones((2,5,3))\n",
    "print(X, type(X), sep=\"\\n\")\n",
    "print(X.ndim, X.shape, X.size, X.itemsize, X.nbytes, X.dtype, sep=\",\")"
   ]
  },
  {
   "cell_type": "code",
   "execution_count": 16,
   "id": "c375da7e",
   "metadata": {},
   "outputs": [
    {
     "name": "stdout",
     "output_type": "stream",
     "text": [
      "[[[[1. 1. 1.]\n",
      "   [1. 1. 1.]\n",
      "   [1. 1. 1.]\n",
      "   [1. 1. 1.]\n",
      "   [1. 1. 1.]]\n",
      "\n",
      "  [[1. 1. 1.]\n",
      "   [1. 1. 1.]\n",
      "   [1. 1. 1.]\n",
      "   [1. 1. 1.]\n",
      "   [1. 1. 1.]]]\n",
      "\n",
      "\n",
      " [[[1. 1. 1.]\n",
      "   [1. 1. 1.]\n",
      "   [1. 1. 1.]\n",
      "   [1. 1. 1.]\n",
      "   [1. 1. 1.]]\n",
      "\n",
      "  [[1. 1. 1.]\n",
      "   [1. 1. 1.]\n",
      "   [1. 1. 1.]\n",
      "   [1. 1. 1.]\n",
      "   [1. 1. 1.]]]]\n",
      "<class 'numpy.ndarray'>\n",
      "4,(2, 2, 5, 3),60,8,480,float64\n"
     ]
    }
   ],
   "source": [
    "X = np.ones((2,2,5,3))\n",
    "print(X, type(X), sep=\"\\n\")\n",
    "print(X.ndim, X.shape, X.size, X.itemsize, X.nbytes, X.dtype, sep=\",\")"
   ]
  },
  {
   "cell_type": "code",
   "execution_count": 17,
   "id": "953d61ee",
   "metadata": {},
   "outputs": [
    {
     "name": "stdout",
     "output_type": "stream",
     "text": [
      "[[1 1 1]\n",
      " [1 1 1]\n",
      " [1 1 1]\n",
      " [1 1 1]\n",
      " [1 1 1]]\n",
      "<class 'numpy.ndarray'>\n",
      "2,(5, 3),15,4,60,int32\n"
     ]
    }
   ],
   "source": [
    "X = np.ones((5,3), dtype = np.int32)\n",
    "print(X, type(X), sep=\"\\n\")\n",
    "print(X.ndim, X.shape, X.size, X.itemsize, X.nbytes, X.dtype, sep=\",\")"
   ]
  },
  {
   "cell_type": "code",
   "execution_count": 18,
   "id": "0bf02e44",
   "metadata": {},
   "outputs": [
    {
     "name": "stdout",
     "output_type": "stream",
     "text": [
      "[[1. 1. 1.]\n",
      " [1. 1. 1.]\n",
      " [1. 1. 1.]\n",
      " [1. 1. 1.]\n",
      " [1. 1. 1.]]\n",
      "<class 'numpy.ndarray'>\n",
      "2,(5, 3),15,8,120,float64\n"
     ]
    }
   ],
   "source": [
    "X = X.astype(np.float64)\n",
    "print(X, type(X), sep=\"\\n\")\n",
    "print(X.ndim, X.shape, X.size, X.itemsize, X.nbytes, X.dtype, sep=\",\")"
   ]
  },
  {
   "cell_type": "code",
   "execution_count": 19,
   "id": "7413d26e",
   "metadata": {},
   "outputs": [
    {
     "name": "stdout",
     "output_type": "stream",
     "text": [
      "[[11 22 33 44]\n",
      " [55 66 77 88]]\n",
      "\n",
      "[[ 9 18 27 36]\n",
      " [45 54 63 72]]\n",
      "\n",
      "[[ 10  40  90 160]\n",
      " [250 360 490 640]]\n",
      "\n",
      "[[10. 10. 10. 10.]\n",
      " [10. 10. 10. 10.]]\n"
     ]
    }
   ],
   "source": [
    "X = np.array([[10, 20, 30, 40], [50, 60, 70, 80]])\n",
    "Y = np.array([[1, 2, 3, 4], [5, 6, 7, 8]])\n",
    "print(X+Y, X-Y, X*Y, X/Y, sep=\"\\n\\n\")"
   ]
  },
  {
   "cell_type": "code",
   "execution_count": 20,
   "id": "eb196121",
   "metadata": {},
   "outputs": [
    {
     "name": "stdout",
     "output_type": "stream",
     "text": [
      "[[ 30  40  50  60]\n",
      " [ 70  80  90 100]]\n",
      "\n",
      "[[-10   0  10  20]\n",
      " [ 30  40  50  60]]\n",
      "\n",
      "[[ 200  400  600  800]\n",
      " [1000 1200 1400 1600]]\n",
      "\n",
      "[[0.5 1.  1.5 2. ]\n",
      " [2.5 3.  3.5 4. ]]\n"
     ]
    }
   ],
   "source": [
    "X = np.array([[10, 20, 30, 40], [50, 60, 70, 80]])\n",
    "Y = 20\n",
    "print(X+Y, X-Y, X*Y, X/Y, sep=\"\\n\\n\")"
   ]
  },
  {
   "cell_type": "code",
   "execution_count": 22,
   "id": "9b666ef6",
   "metadata": {},
   "outputs": [
    {
     "name": "stdout",
     "output_type": "stream",
     "text": [
      "[[[1. 1. 1.]\n",
      "  [1. 1. 1.]\n",
      "  [1. 1. 1.]\n",
      "  [1. 1. 1.]\n",
      "  [1. 1. 1.]]\n",
      "\n",
      " [[1. 1. 1.]\n",
      "  [1. 1. 1.]\n",
      "  [1. 1. 1.]\n",
      "  [1. 1. 1.]\n",
      "  [1. 1. 1.]]]\n",
      "\n",
      "[[[1. 1. 1.]\n",
      "  [1. 1. 1.]\n",
      "  [1. 1. 1.]\n",
      "  [1. 1. 1.]\n",
      "  [1. 1. 1.]]\n",
      "\n",
      " [[1. 1. 1.]\n",
      "  [1. 1. 1.]\n",
      "  [1. 1. 1.]\n",
      "  [1. 1. 1.]\n",
      "  [1. 1. 1.]]]\n",
      "\n",
      "[[[0. 0. 0.]\n",
      "  [0. 0. 0.]\n",
      "  [0. 0. 0.]\n",
      "  [0. 0. 0.]\n",
      "  [0. 0. 0.]]\n",
      "\n",
      " [[0. 0. 0.]\n",
      "  [0. 0. 0.]\n",
      "  [0. 0. 0.]\n",
      "  [0. 0. 0.]\n",
      "  [0. 0. 0.]]]\n"
     ]
    }
   ],
   "source": [
    "X = np.ones((2,5,3))\n",
    "Y = np.zeros((2,5,3))\n",
    "print(X+Y, X-Y, X*Y, sep=\"\\n\\n\")"
   ]
  },
  {
   "cell_type": "code",
   "execution_count": null,
   "id": "98662f56",
   "metadata": {},
   "outputs": [],
   "source": []
  }
 ],
 "metadata": {
  "kernelspec": {
   "display_name": "Python 3 (ipykernel)",
   "language": "python",
   "name": "python3"
  },
  "language_info": {
   "codemirror_mode": {
    "name": "ipython",
    "version": 3
   },
   "file_extension": ".py",
   "mimetype": "text/x-python",
   "name": "python",
   "nbconvert_exporter": "python",
   "pygments_lexer": "ipython3",
   "version": "3.11.4"
  }
 },
 "nbformat": 4,
 "nbformat_minor": 5
}
